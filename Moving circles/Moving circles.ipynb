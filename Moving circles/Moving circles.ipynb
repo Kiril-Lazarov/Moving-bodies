{
 "cells": [
  {
   "cell_type": "code",
   "execution_count": 4,
   "id": "4885c128-8494-4bf0-ad75-b185cc0c60ab",
   "metadata": {},
   "outputs": [],
   "source": [
    "import numpy as np \n",
    "import pygame \n",
    "import time"
   ]
  },
  {
   "cell_type": "code",
   "execution_count": 5,
   "id": "97094705-c990-445a-a492-cead0082a960",
   "metadata": {},
   "outputs": [],
   "source": [
    "def update_body2_coords(body2, body1, FPS,rotation_angle,angular_velocity, distance):\n",
    "    if rotation_angle >= 2 * np.pi:\n",
    "        rotation_angle -= 2 * np.pi\n",
    "    rotation_angle +=  angular_velocity\n",
    "\n",
    "    body2['pos'][0] = body1['pos'][0] + distance * np.cos(rotation_angle)\n",
    "    body2['pos'][1] =  body1['pos'][1] - distance * np.sin(rotation_angle)   \n",
    "    \n",
    "    return [body2['pos'][0], body2['pos'][1], rotation_angle]\n",
    "    "
   ]
  },
  {
   "cell_type": "code",
   "execution_count": 6,
   "id": "8bc1008f-f66c-4e21-b6df-34f58882e667",
   "metadata": {
    "tags": []
   },
   "outputs": [],
   "source": [
    "def change_body_distance(body_x, body_y, rotation_angle,distance_change,grow):\n",
    "    if not grow:\n",
    "            body_x += (distance_change/2) * np.cos(rotation_angle)\n",
    "            body_y -= (distance_change/2) * np.sin(rotation_angle)\n",
    "    else:\n",
    "            body_x -= (distance_change/2) * np.cos(rotation_angle)\n",
    "            body_y += (distance_change/2) * np.sin(rotation_angle)\n",
    "        \n",
    "    return [body_x, body_y]"
   ]
  },
  {
   "cell_type": "code",
   "execution_count": 7,
   "id": "982ee5d6-3ec1-4082-9347-ef029571ce50",
   "metadata": {
    "tags": []
   },
   "outputs": [],
   "source": [
    "def get_rotation_angle_for_body2(rotation_angle):\n",
    "\n",
    "    if rotation_angle <= np.pi:\n",
    "        return rotation_angle + np.pi\n",
    "    \n",
    "    return rotation_angle - np.pi"
   ]
  },
  {
   "cell_type": "code",
   "execution_count": 8,
   "id": "e12ead05-c5f2-4e47-a744-26e5627bfa15",
   "metadata": {},
   "outputs": [],
   "source": [
    "def bodies_animation(screen_width=1500, screen_height=800):\n",
    "    pygame.init()\n",
    "    \n",
    "    center = [screen_width/2, screen_height/1.1]\n",
    "    \n",
    "    body1 = {'color': (0,0,250),\n",
    "                 'pos': center,\n",
    "                 'radius': 10}\n",
    "    body2 = {'color': (250,0,0),\n",
    "                 'pos': [center[0]+200, center[1]],\n",
    "                 'radius': 10}\n",
    "    distance_init = np.sqrt((body1['pos'][0] - body2['pos'][0]) ** 2 + \n",
    "                       (body2['pos'][1] - body1['pos'][1]) ** 2) - (body1['radius'] + body2['radius']) \n",
    "    distance = np.sqrt((body1['pos'][0] - body2['pos'][0]) ** 2 + \n",
    "                       (body2['pos'][1] - body1['pos'][1]) ** 2) - (body1['radius'] + body2['radius']) \n",
    "    print('Distance: ', distance)\n",
    "    \n",
    "    bg_color = (255, 255, 255)\n",
    "    win = pygame.display.set_mode((screen_width, screen_height))\n",
    "\n",
    "    clock = pygame.time.Clock()\n",
    "    \n",
    "    # Frames per second\n",
    "    FPS = 50\n",
    "    clock.tick(FPS)\n",
    "    running = True\n",
    "    angular_velocity = (np.pi/6)/ FPS\n",
    "    print('Angular velocity: ', angular_velocity)\n",
    "    rotation_angle = 0\n",
    "    velocity = distance/ 350\n",
    "    print('Velocity: ', velocity)\n",
    "    grow = False\n",
    " \n",
    "    while running:\n",
    "        \n",
    "        for event in pygame.event.get():\n",
    "            if event.type == pygame.QUIT:\n",
    "                running = False\n",
    "                \n",
    "        win.fill(bg_color)\n",
    "        body2['pos'][0], body2['pos'][1],rotation_angle = update_body2_coords(body2,body1, FPS, rotation_angle,\n",
    "                                                              angular_velocity, distance)       \n",
    "        \n",
    "            \n",
    "        body1['pos'][0], body1['pos'][1] = change_body_distance(body1['pos'][0], body1['pos'][1], rotation_angle,velocity, grow)\n",
    "        \n",
    "        \n",
    "        rotation_angle_for_body2 = get_rotation_angle_for_body2(rotation_angle)\n",
    "        \n",
    "        body2['pos'][0], body2['pos'][1] = change_body_distance(body2['pos'][0], body2['pos'][1], rotation_angle_for_body2,velocity,grow)\n",
    "        \n",
    "            distance -= velocity\n",
    "            grow = False\n",
    "        elif np.pi<= rotation_angle<2 * np.pi:          \n",
    "            distance += velocity\n",
    "            grow = True\n",
    "        \n",
    "       \n",
    "     \n",
    "        \n",
    "        pygame.draw.circle(win, body1['color'], body1['pos'], body1['radius'])\n",
    "        \n",
    "        \n",
    "        pygame.draw.circle(win, body2['color'], body2['pos'], body2['radius']) \n",
    "        pygame.display.update()\n",
    "        pygame.display.flip()\n",
    "    # Exit\n",
    "    pygame.quit()\n",
    "    "
   ]
  },
  {
   "cell_type": "code",
   "execution_count": 9,
   "id": "b5377f99-9972-4301-a77f-9c36399b7a7f",
   "metadata": {
    "tags": []
   },
   "outputs": [
    {
     "name": "stdout",
     "output_type": "stream",
     "text": [
      "Distance:  180.0\n",
      "Angular velocity:  0.010471975511965976\n",
      "Velocity:  0.5142857142857142\n"
     ]
    }
   ],
   "source": [
    "bodies_animation()"
   ]
  },
  {
   "cell_type": "code",
   "execution_count": 388,
   "id": "5b6754dd-39be-4249-afc0-b566e934f69c",
   "metadata": {},
   "outputs": [
    {
     "data": {
      "text/plain": [
       "3.141592653589793"
      ]
     },
     "execution_count": 388,
     "metadata": {},
     "output_type": "execute_result"
    }
   ],
   "source": [
    "0.005235987755982988 * 100 * 6"
   ]
  },
  {
   "cell_type": "code",
   "execution_count": null,
   "id": "d4fbaedf-7d2e-4159-b4eb-3325acf21356",
   "metadata": {},
   "outputs": [],
   "source": []
  }
 ],
 "metadata": {
  "kernelspec": {
   "display_name": "Python 3 (ipykernel)",
   "language": "python",
   "name": "python3"
  },
  "language_info": {
   "codemirror_mode": {
    "name": "ipython",
    "version": 3
   },
   "file_extension": ".py",
   "mimetype": "text/x-python",
   "name": "python",
   "nbconvert_exporter": "python",
   "pygments_lexer": "ipython3",
   "version": "3.9.13"
  }
 },
 "nbformat": 4,
 "nbformat_minor": 5
}
