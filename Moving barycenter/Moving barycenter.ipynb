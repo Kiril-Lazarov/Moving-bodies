{
 "cells": [
  {
   "cell_type": "code",
   "execution_count": 1,
   "id": "663752ef-2302-4751-8096-7f436108573f",
   "metadata": {},
   "outputs": [
    {
     "name": "stdout",
     "output_type": "stream",
     "text": [
      "pygame 2.4.0 (SDL 2.26.4, Python 3.9.13)\n",
      "Hello from the pygame community. https://www.pygame.org/contribute.html\n"
     ]
    }
   ],
   "source": [
    "import numpy as np \n",
    "import pygame"
   ]
  },
  {
   "cell_type": "code",
   "execution_count": 2,
   "id": "3c8c488a-245d-4b31-9bad-bf4729a8de9c",
   "metadata": {},
   "outputs": [],
   "source": [
    "class Circle:\n",
    "    def __init__(self,x, y, mass, color, radius):\n",
    "        self.x = x\n",
    "        self.y = y\n",
    "        self.mass = mass\n",
    "        self.color = color\n",
    "        self.radius = radius"
   ]
  },
  {
   "cell_type": "code",
   "execution_count": 14,
   "id": "bae4b632-f2a7-47d6-b9c1-bd5bdc9357f9",
   "metadata": {},
   "outputs": [],
   "source": [
    "def create_moving_circles(screen_center, Circle, count, unit_angle, mass, distance, color, radius):\n",
    "    unit_distance = distance / (count/2)\n",
    "    circles = []\n",
    "    opposite_circles = []\n",
    "    for i in range(int(count/2)):\n",
    "        angle = i * unit_angle\n",
    "        opposite_angle = angle + np.pi\n",
    "       \n",
    "        curr_circle_distance = distance - i * unit_distance\n",
    "        distance_to_opp_point = curr_circle_distance - distance - radius - 2\n",
    "      \n",
    "        \n",
    "        circle_coords = (screen_center[0] + curr_circle_distance* np.cos(angle), \n",
    "                          screen_center[1] - curr_circle_distance*np.sin(angle))\n",
    "        \n",
    "        opposite_coords = (screen_center[0] + distance_to_opp_point* np.cos(angle), \n",
    "                          screen_center[1] - distance_to_opp_point*np.sin(angle))\n",
    "        circles.append(Circle(*circle_coords, mass, color,radius))\n",
    "        opposite_circles.append(Circle(*opposite_coords, mass, color,radius))\n",
    "    return circles + opposite_circles"
   ]
  },
  {
   "cell_type": "code",
   "execution_count": 19,
   "id": "f0f093b7-4b4c-4b6f-bf76-d0d32b5a31fd",
   "metadata": {},
   "outputs": [],
   "source": [
    "def main_anim(screen_width= 1500, screen_height=800):\n",
    "    screen_center = ((screen_width/2, screen_height/2))\n",
    "   \n",
    "    pygame.init()\n",
    "    clock = pygame.time.Clock()\n",
    "    screen = pygame.display.set_mode((screen_width, screen_height))\n",
    "  \n",
    "    screen.fill((255, 255, 255))\n",
    "    \n",
    "    rotating_circles_count = 12\n",
    "    unit_angle = 2 * np.pi / rotating_circles_count\n",
    "    distance = 200 # In pixels\n",
    "    mass = 1\n",
    "    color = (0,0,255)\n",
    "    radius = 2\n",
    "    \n",
    "    circles_list = create_moving_circles(screen_center, Circle,\n",
    "                                         rotating_circles_count,\n",
    "                                         unit_angle, mass,distance,\n",
    "                                         color,radius)\n",
    "     \n",
    "    FPS = 30\n",
    "    running = True\n",
    "    \n",
    "    rotate_angle = 0\n",
    "    rotation_velocity = 2 * np.pi / (FPS * 4)\n",
    "    while running:\n",
    "        \n",
    "        clock.tick(FPS)        \n",
    "      \n",
    "        for event in pygame.event.get():\n",
    "            if event.type == pygame.QUIT:\n",
    "                running = False\n",
    "        pygame.draw.circle(screen, (255, 0, 0), screen_center, radius = 6)\n",
    "        \n",
    "        for i in range(len(circles_list)):\n",
    "            curr_circle = circles_list[i]\n",
    "            \n",
    "            pygame.draw.circle(screen, (255, 0, 255), (curr_circle.x,curr_circle.y), radius = curr_circle.radius)\n",
    "            \n",
    "        pygame.display.update()\n",
    "        pygame.display.flip()\n",
    "    \n",
    "    pygame.quit()"
   ]
  },
  {
   "cell_type": "code",
   "execution_count": 20,
   "id": "e6f4586c-a412-4976-959d-51c53adb361f",
   "metadata": {},
   "outputs": [],
   "source": [
    "main_anim()"
   ]
  },
  {
   "cell_type": "code",
   "execution_count": null,
   "id": "c1f02be1-5b32-415c-9313-cdc7292a6719",
   "metadata": {},
   "outputs": [],
   "source": []
  }
 ],
 "metadata": {
  "kernelspec": {
   "display_name": "Python 3 (ipykernel)",
   "language": "python",
   "name": "python3"
  },
  "language_info": {
   "codemirror_mode": {
    "name": "ipython",
    "version": 3
   },
   "file_extension": ".py",
   "mimetype": "text/x-python",
   "name": "python",
   "nbconvert_exporter": "python",
   "pygments_lexer": "ipython3",
   "version": "3.9.13"
  }
 },
 "nbformat": 4,
 "nbformat_minor": 5
}
