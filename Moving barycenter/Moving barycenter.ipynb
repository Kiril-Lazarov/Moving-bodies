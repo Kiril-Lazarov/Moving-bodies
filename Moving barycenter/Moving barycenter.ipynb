{
 "cells": [
  {
   "cell_type": "code",
   "execution_count": 1,
   "id": "663752ef-2302-4751-8096-7f436108573f",
   "metadata": {},
   "outputs": [
    {
     "name": "stdout",
     "output_type": "stream",
     "text": [
      "pygame 2.4.0 (SDL 2.26.4, Python 3.9.13)\n",
      "Hello from the pygame community. https://www.pygame.org/contribute.html\n"
     ]
    }
   ],
   "source": [
    "import numpy as np \n",
    "import pygame\n",
    "import time\n",
    "\n",
    "from funcs_collection import *"
   ]
  },
  {
   "cell_type": "code",
   "execution_count": 3,
   "id": "e6f4586c-a412-4976-959d-51c53adb361f",
   "metadata": {},
   "outputs": [],
   "source": [
    "'''\n",
    "Settings of the rotating system.\n",
    "'''\n",
    "rotating_circles_number = 4\n",
    "platform_mass = 40\n",
    "circle_mass = 1\n",
    "distance = 100\n",
    "\n",
    "main_anim(rotating_circles_number, platform_mass, circle_mass, distance)"
   ]
  }
 ],
 "metadata": {
  "kernelspec": {
   "display_name": "Python 3 (ipykernel)",
   "language": "python",
   "name": "python3"
  },
  "language_info": {
   "codemirror_mode": {
    "name": "ipython",
    "version": 3
   },
   "file_extension": ".py",
   "mimetype": "text/x-python",
   "name": "python",
   "nbconvert_exporter": "python",
   "pygments_lexer": "ipython3",
   "version": "3.9.13"
  }
 },
 "nbformat": 4,
 "nbformat_minor": 5
}
