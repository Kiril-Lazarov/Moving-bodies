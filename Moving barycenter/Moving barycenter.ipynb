{
 "cells": [
  {
   "cell_type": "code",
   "execution_count": 1,
   "id": "663752ef-2302-4751-8096-7f436108573f",
   "metadata": {},
   "outputs": [
    {
     "name": "stdout",
     "output_type": "stream",
     "text": [
      "pygame 2.4.0 (SDL 2.26.4, Python 3.9.13)\n",
      "Hello from the pygame community. https://www.pygame.org/contribute.html\n"
     ]
    }
   ],
   "source": [
    "import numpy as np \n",
    "import pygame\n",
    "import time"
   ]
  },
  {
   "cell_type": "code",
   "execution_count": 2,
   "id": "3c8c488a-245d-4b31-9bad-bf4729a8de9c",
   "metadata": {
    "tags": []
   },
   "outputs": [],
   "source": [
    "class Circle:\n",
    "    \n",
    "   \n",
    "    def __init__(self,x, y, mass, distance, color,radius, angle):\n",
    "        self.x = x\n",
    "        self.y = y\n",
    "        self.mass = mass\n",
    "        self.distance = distance\n",
    "        self.color = color\n",
    "        self.radius = radius\n",
    "        self.angle = angle\n",
    "          \n",
    "        \n",
    "    def change_angle(self, angle):    \n",
    "        self.angle += angle\n",
    "        if self.angle >= 2 * np.pi:\n",
    "            self.angle -= 2 * np.pi\n",
    "            \n",
    "            \n",
    "    def set_coords(self, refference_point,to='platform_center_point'):\n",
    "      \n",
    "        distance = get_distance(refference_point, [self.x,self.y]) if to=='barycenter_point' else self.distance \n",
    "        self.x = refference_point[0] + distance * np.cos(self.angle)\n",
    "        self.y = refference_point[1] - distance *np.sin(self.angle)\n",
    "        \n",
    "        \n",
    "    def change_distance(self, unit_displace):\n",
    "        \n",
    "        if 0<= self.angle < np.pi:\n",
    "            self.distance -= unit_displace\n",
    "        else:\n",
    "            self.distance += unit_displace"
   ]
  },
  {
   "cell_type": "code",
   "execution_count": 3,
   "id": "c4bdcf16-baee-479d-a7ee-e95bd6e4f9bd",
   "metadata": {
    "tags": []
   },
   "outputs": [],
   "source": [
    "def get_distance(point1, point2):\n",
    "    return np.sqrt((point2[0] - point1[0]) ** 2 + (point2[1] - point1[1]) ** 2)"
   ]
  },
  {
   "cell_type": "code",
   "execution_count": 4,
   "id": "2062ea3c-0e42-4bc6-b69f-6ccb1b47ed3d",
   "metadata": {
    "jupyter": {
     "source_hidden": true
    },
    "tags": []
   },
   "outputs": [],
   "source": [
    "def calc_barycenter(bodies, platform_point):\n",
    "    \n",
    "    all_bodies = bodies.copy()\n",
    "    all_bodies.append(platform_point)\n",
    "    masses = []\n",
    "    x = []\n",
    "    y = []\n",
    "    for i in range(len(all_bodies)):\n",
    "        body = all_bodies[i]\n",
    "        x.append(body.x)\n",
    "        y.append(body.y)\n",
    "        masses.append(body.mass)\n",
    "    masses = np.array(masses)\n",
    "    masses_sum = np.sum(masses)\n",
    "    bodies_x = np.array(x)\n",
    "    bodies_y = np.array(y)\n",
    "    \n",
    "    bary_x = np.dot(bodies_x, masses)/masses_sum\n",
    "    bary_y = np.dot(bodies_y, masses)/masses_sum\n",
    "    return bary_x, bary_y"
   ]
  },
  {
   "cell_type": "code",
   "execution_count": 5,
   "id": "bae4b632-f2a7-47d6-b9c1-bd5bdc9357f9",
   "metadata": {
    "jupyter": {
     "source_hidden": true
    },
    "tags": []
   },
   "outputs": [],
   "source": [
    "def create_moving_circles(screen_center, Circle, count, \n",
    "                          unit_angle, mass, distance, \n",
    "                          color, rotating_circles_radius,center_point_radius):\n",
    "    unit_distance = distance / (count/2)\n",
    "    circles = []\n",
    "    opposite_circles = []\n",
    "    for i in range(int(count/2)):\n",
    "        angle = i * unit_angle\n",
    "        opposite_angle = angle + np.pi\n",
    "       \n",
    "        curr_circle_distance = distance - i * unit_distance\n",
    "        distance_to_opp_point = curr_circle_distance - distance + rotating_circles_radius + center_point_radius\n",
    "      \n",
    "        \n",
    "        circle_coords = (screen_center[0] + curr_circle_distance* np.cos(angle), \n",
    "                          screen_center[1] - curr_circle_distance*np.sin(angle))\n",
    "        \n",
    "        opposite_coords = (screen_center[0] + distance_to_opp_point* np.cos(opposite_angle), \n",
    "                          screen_center[1] - distance_to_opp_point*np.sin(opposite_angle))\n",
    "        #def __init__(self,x, y, mass, distance, color,radius, angle, decrease = True):\n",
    "        \n",
    "        circles.append(Circle(*circle_coords, mass,curr_circle_distance, \n",
    "                              color, rotating_circles_radius, angle,))\n",
    "        \n",
    "        opposite_circles.append(Circle(*opposite_coords, mass, abs(distance_to_opp_point), \n",
    "                                       color,rotating_circles_radius, opposite_angle))\n",
    "    return circles + opposite_circles"
   ]
  },
  {
   "cell_type": "code",
   "execution_count": 6,
   "id": "da4a1747-671c-469a-afc9-9ba9a7bd0fd9",
   "metadata": {},
   "outputs": [],
   "source": [
    "def update_circles_coords(circles_list, unit_displace, delta_angle,refference_point,to='platform_center_point'):\n",
    "    for circle in circles_list:\n",
    "        # circle.dist_to_rp = get_distance(refference_point, [circle.x, circle.y])\n",
    "        circle.change_angle(delta_angle)\n",
    "        circle.change_distance(unit_displace)\n",
    "        \n",
    "        circle.set_coords(refference_point, to=to)"
   ]
  },
  {
   "cell_type": "code",
   "execution_count": 7,
   "id": "31f7c558-0b4e-4944-beee-8b95968c2f3c",
   "metadata": {},
   "outputs": [],
   "source": [
    "def calc_displacements(circle_mass, platform_mass, unit_displace):\n",
    "    min_displacement = unit_displace/ (circle_mass + platform_mass)\n",
    "    \n",
    "    circle_displacement = min_displacement * platform_mass\n",
    "    platform_displacement = min_displacement * circle_mass\n",
    "    \n",
    "    return circle_displacement, platform_displacement"
   ]
  },
  {
   "cell_type": "code",
   "execution_count": 8,
   "id": "fba92f84-d711-4d09-b301-3d72b5088cbe",
   "metadata": {},
   "outputs": [],
   "source": [
    "def get_angle_between_points(point1, point2):\n",
    "    \n",
    "    tangens = (point2[1]-point1[1])/(point2[0] - point1[0])\n",
    "    \n",
    "    angle = np.arctan(tangens)\n",
    "    \n",
    "    final_angle = np.pi + angle\n",
    "    \n",
    "    return final_angle"
   ]
  },
  {
   "cell_type": "code",
   "execution_count": 9,
   "id": "f0f093b7-4b4c-4b6f-bf76-d0d32b5a31fd",
   "metadata": {},
   "outputs": [],
   "source": [
    "def main_anim(screen_width=1500, screen_height=800):\n",
    "    screen_center = (screen_width / 2, screen_height / 2)\n",
    "    FPS = 50\n",
    "    \n",
    "    pygame.init()\n",
    "    clock = pygame.time.Clock()\n",
    "    screen = pygame.display.set_mode((screen_width, screen_height))\n",
    "  \n",
    "    platform_mass = 12\n",
    "    platform_color = (0, 0, 0)\n",
    "    platform_point_radius = 6\n",
    "    \n",
    "    # def __init__(self,x, y, mass, distance, color,radius, angle)\n",
    "    \n",
    "    platform_point = Circle(screen_center[0], screen_center[1], \n",
    "                            platform_mass, 0, platform_color, platform_point_radius,\n",
    "                            0)\n",
    "\n",
    "    \n",
    "    rotating_circles_count = 4\n",
    "    unit_angle = 2 * np.pi / rotating_circles_count\n",
    "    delta_angle = 2 * np.pi / (FPS * 4)\n",
    "    \n",
    "    circle_mass = 1\n",
    "    color = (0, 0, 255)\n",
    "    rotating_circles_radius = 4\n",
    "    center_point_radius = 4\n",
    "    distance = 500 - center_point_radius - rotating_circles_radius # In pixels\n",
    "    unit_displace = (distance-10)/ (FPS * 2)\n",
    "    \n",
    "    circle_displacement, platform_displacement = calc_displacements(circle_mass, platform_mass,unit_displace)\n",
    "    \n",
    "    \n",
    "    circles_list = create_moving_circles(screen_center, Circle,\n",
    "                                         rotating_circles_count,\n",
    "                                         unit_angle, circle_mass, distance,\n",
    "                                         color, rotating_circles_radius,\n",
    "                                         center_point_radius)\n",
    "    \n",
    "    barycenter_point = calc_barycenter(circles_list, platform_point)\n",
    "    \n",
    "    # Reinitialization of the angle and the distance between platform point and barycenter point\n",
    "    platform_point.angle = get_angle_between_points((platform_point.x, platform_point.y), barycenter_point)\n",
    "    platform_point.distance = get_distance((platform_point.x, platform_point.y), barycenter_point)\n",
    "    \n",
    "    \n",
    "    \n",
    "    # Draw circles\n",
    "    for curr_circle in circles_list:\n",
    "        pygame.draw.circle(screen, (255, 0, 255), (curr_circle.x, curr_circle.y), curr_circle.radius)\n",
    "    \n",
    " \n",
    "     \n",
    "    \n",
    "    running = True\n",
    "    \n",
    " \n",
    "    \n",
    "    while running:\n",
    "        \n",
    "        clock.tick(FPS)\n",
    "        screen.fill((255, 255, 255))  # Clear the screen for each frame\n",
    "      \n",
    "        for event in pygame.event.get():\n",
    "            if event.type == pygame.QUIT:\n",
    "                running = False\n",
    "          \n",
    "        \n",
    "        # update_circles_coords(circles_list, unit_displace, delta_angle,[platform_point.x, platform_point.y])\n",
    "        \n",
    "        # Rotate the circles over barycenter point with no change of the distances to it\n",
    "        update_circles_coords(circles_list + [platform_point], 0, delta_angle,barycenter_point,to='barycenter_point')\n",
    "        \n",
    "        \n",
    "         \n",
    "        \n",
    "        # barycenter_point = calc_barycenter(circles_list, platform_point)\n",
    "        \n",
    "        # Draw barycenter\n",
    "        pygame.draw.circle(screen, platform_point.color,\n",
    "                           (barycenter_point[0], barycenter_point[1]),\n",
    "                           platform_point.radius)\n",
    "      \n",
    "       \n",
    "        #Draw center point\n",
    "        pygame.draw.circle(screen, (255, 0, 0), (screen_center[0], screen_center[1]), center_point_radius)\n",
    "        \n",
    "        # Draw circles\n",
    "        for curr_circle in circles_list:\n",
    "            pygame.draw.circle(screen, (255, 0, 255), (curr_circle.x, curr_circle.y), curr_circle.radius)\n",
    "           \n",
    "            \n",
    "        pygame.display.update()\n",
    "        # time.sleep(0.5)\n",
    "    \n",
    "    pygame.quit()"
   ]
  },
  {
   "cell_type": "code",
   "execution_count": 10,
   "id": "e6f4586c-a412-4976-959d-51c53adb361f",
   "metadata": {},
   "outputs": [],
   "source": [
    "main_anim()"
   ]
  },
  {
   "cell_type": "code",
   "execution_count": 11,
   "id": "c1f02be1-5b32-415c-9313-cdc7292a6719",
   "metadata": {},
   "outputs": [
    {
     "name": "stdout",
     "output_type": "stream",
     "text": [
      "7.5 2.5\n"
     ]
    }
   ],
   "source": [
    "a, b = calc_displacements(1, 3, 10)\n",
    "\n",
    "print(a, b)\n"
   ]
  },
  {
   "cell_type": "code",
   "execution_count": null,
   "id": "acdec5fd-722f-4e03-909d-ece2989bacc9",
   "metadata": {},
   "outputs": [],
   "source": []
  }
 ],
 "metadata": {
  "kernelspec": {
   "display_name": "Python 3 (ipykernel)",
   "language": "python",
   "name": "python3"
  },
  "language_info": {
   "codemirror_mode": {
    "name": "ipython",
    "version": 3
   },
   "file_extension": ".py",
   "mimetype": "text/x-python",
   "name": "python",
   "nbconvert_exporter": "python",
   "pygments_lexer": "ipython3",
   "version": "3.9.13"
  }
 },
 "nbformat": 4,
 "nbformat_minor": 5
}
