{
 "cells": [
  {
   "cell_type": "code",
   "execution_count": 1,
   "id": "55f01264-ccb9-4b73-9f33-56912c7cbf91",
   "metadata": {},
   "outputs": [
    {
     "name": "stdout",
     "output_type": "stream",
     "text": [
      "pygame 2.4.0 (SDL 2.26.4, Python 3.9.13)\n",
      "Hello from the pygame community. https://www.pygame.org/contribute.html\n"
     ]
    }
   ],
   "source": [
    "import numpy as np \n",
    "import pygame \n",
    "from datetime import datetime\n",
    "# import sys\n",
    "# sys.path.append(r'C:\\Users\\lenovo\\Desktop\\Artificial Inteligence\\Jupyter projects\\Time Dilation')\n",
    "from functions import *\n",
    "from light_signals import *\n",
    "from collections import deque"
   ]
  },
  {
   "cell_type": "code",
   "execution_count": 2,
   "id": "4cf54147-0864-44c4-8b54-bd70814bf71a",
   "metadata": {},
   "outputs": [],
   "source": [
    "\"\"\"\n",
    "Global animation variables\n",
    "\n",
    "\"\"\" \n",
    "\n",
    "screen_width = 1500\n",
    "screen_height = 800\n",
    "FPS = 100     # Frames per second\n",
    "\n",
    "# Initial distance between moving body and stationary observer\n",
    "distance = 1300\n",
    "# Velocity is measured as a percentage of the speed of light - [0, 1) \n",
    "velocity = 0.85"
   ]
  },
  {
   "cell_type": "code",
   "execution_count": 14,
   "id": "4cffd553-3827-4b17-90ee-ef1f208d4c86",
   "metadata": {},
   "outputs": [],
   "source": [
    "'''\n",
    " screen_objects = {\n",
    "        'x_line_start': x_line_start,\n",
    "        'vertical_line_start': vertical_line_start,\n",
    "        'vertical_line_end': vertical_line_end,\n",
    "        'x_line_end': x_line_end,\n",
    "        'y_line': y_line,\n",
    "        'vertical_line_x': [],\n",
    "        'numbers': [],\n",
    "        'signals_start_positions': [],\n",
    "        'spaceship_position': []\n",
    "    }\n",
    "'''\n",
    "def shift_screen_objects(background_surface, screen_objects, step):\n",
    "    \n",
    "    # Dictionary with functions to shift the coordinates of the screen objects by `step` pixels \n",
    "    shift_funcs = {\n",
    "        'x_line_start': screen_objects['x_line_start'] + step,\n",
    "        # 'vertical_line_start': screen_objects['vertical_line_start'] + step,\n",
    "        # 'vertical_line_end': vertical_line_start,\n",
    "        'x_line_end': screen_objects['x_line_end'] + step,\n",
    "        # 'y_line': y_line,\n",
    "        'vertical_line_x': [line_x + step for line_x in screen_objects['vertical_line_x']],\n",
    "        'numbers': [x_coord[1] + step for x_coord in screen_objects['numbers']],\n",
    "        'signals_start_positions': {key:[position[0] + step, position[1]] for key,position in screen_objects['signals_start_positions'].items()},\n",
    "        'spaceship_last_position': screen_objects['spaceship_last_position'][0] + step\n",
    "    }\n",
    "    \n",
    "    # Actualize the coordinates of the screen objects\n",
    "    for key in shift_funcs:\n",
    "        screen_objects[key] = shift_funcs[key]\n",
    "            \n",
    "    return screen_objects"
   ]
  },
  {
   "cell_type": "code",
   "execution_count": 17,
   "id": "c6b9bf0a-60e7-4a2f-8a15-077693c413b4",
   "metadata": {},
   "outputs": [],
   "source": [
    "def main_animation(screen_width, screen_height,FPS):\n",
    "    \n",
    "    '''\n",
    "    Initializations\n",
    "    '''\n",
    "    pygame.init()\n",
    "    bg_color = (255, 255, 255)\n",
    "    win = pygame.display.set_mode((screen_width, screen_height))\n",
    "    clock = pygame.time.Clock()\n",
    "    pygame.font.init()\n",
    "    font_big = pygame.font.Font(None, 36)\n",
    "    message_font = pygame.font.Font(None, 20)\n",
    "    \n",
    "    units =15 # Every unit is equal to 1 light second\n",
    "    \n",
    "    length = distance/units # Length of one unit in pixels\n",
    "    \n",
    "    # The animation layer responsible for the signals data\n",
    "    background_surface, markers, screen_objects = create_background(screen_width, screen_height, bg_color,units, length)  \n",
    "    LightSignalClass = LightSignal\n",
    "    LightSignal.receiver_position = {k: v for k, v in markers[0].items()}\n",
    "    \n",
    "    for key, value in screen_objects.items():\n",
    "        print(key, value)\n",
    "        print()\n",
    "    \n",
    "    '''\n",
    "    Local variables\n",
    "    '''\n",
    "    is_receiver_chron_started = False\n",
    "    receiver_frames_count = 0 # Tracks the frames when the receiver starts his chronometer   \n",
    "      \n",
    "    \n",
    "    displacement_per_frame = length/ FPS # The distance that light travels for 1 second\n",
    "    \n",
    "    frame = 0 \n",
    "    start_angle = - np.pi/16 \n",
    "    end_angle = - start_angle # Boundaries of the signals fronts\n",
    "    \n",
    "    signal_radius = 0\n",
    "    \n",
    "    gamma_fac = gamma_factor(velocity) # Calculates how much slower the clock on the spaceship runs\n",
    "    \n",
    "    # The front of the first light signal emmited from the ship.\n",
    "    # It will be used for the calculations of the spaceship position    \n",
    "    first_light_front = [100, 500]\n",
    "    space_ship_pos = first_light_front.copy()\n",
    "    \n",
    "      \n",
    "    \n",
    "    emitted_signals = deque([]) # Contains the emitted from spaceship singles objects\n",
    "    \n",
    "    emitted_signals.append(LightSignalClass.create_signal(space_ship_pos.copy(), '0'))\n",
    "    \n",
    "    # pygame.draw.circle(win, (0, 0, 0),first_light_front , radius=2)\n",
    "    # rect = [100 - signal_radius, 500 - signal_radius, 2*signal_radius, 2*signal_radius]\n",
    "    # pygame.draw.arc(win, (255, 0, 0), rect, start_angle, end_angle, 2)\n",
    "    # pygame.draw.circle(background_surface, (255, 255, 0), space_ship_pos, radius = 2)\n",
    "    \n",
    "    readings_dict = {} # Readings of the receiver\n",
    "    \n",
    "    moment_to_shift_screen_objects = False\n",
    "    \n",
    "    spaceship_tickings = 1\n",
    "    messages_count = 0\n",
    "\n",
    "    running = True\n",
    "    \n",
    "    while running:\n",
    "        clock.tick(FPS)\n",
    "        frame += 1\n",
    "      \n",
    "        for event in pygame.event.get():\n",
    "            if event.type == pygame.QUIT:\n",
    "                running = False\n",
    "                \n",
    "        \n",
    "        tick = pygame.time.get_ticks()\n",
    "        win.fill(bg_color)\n",
    "        text = font_big.render(f'Frame number {frame} - time {tick}', True, (0,0,0))\n",
    "        \n",
    "        space_ship_time = (frame * gamma_fac) / FPS\n",
    "        \n",
    "        stationary_time = frame / FPS\n",
    "        \n",
    "        space_ship_text = font_big.render(f'Spaceship clock {space_ship_time:.2f}', True, (0, 0, 0))\n",
    "        stationary_text = font_big.render(f'Stationary clock {stationary_time:.2f}', True, (0, 0, 0))\n",
    "        \n",
    "        received_time_text = font_big.render('Received time', True, (0, 0, 0))\n",
    "        received_message_text = font_big.render('Received message', True, (0, 0, 0))\n",
    "        \n",
    "        win.blit(background_surface, (0, 0))\n",
    "        win.blit(text, (10, 10))\n",
    "        win.blit(space_ship_text, (10, 80))\n",
    "        win.blit(stationary_text, (10, 50))\n",
    "        win.blit(received_time_text, (1000, 10))\n",
    "        win.blit(received_message_text, (1250, 10))\n",
    "                                           \n",
    "        \n",
    "        first_light_front = update_first_light_front(first_light_front, displacement_per_frame)\n",
    "        \n",
    "        # pygame.draw.circle(win, (0, 0, 0),first_light_front , radius=2)\n",
    "        space_ship_pos[0] = first_light_front[0] * velocity\n",
    "        \n",
    "        screen_objects['spaceship_last_position'] = space_ship_pos\n",
    "        \n",
    "        # Remove the the first signal in the queueWhen is reaching the receiver and\n",
    "        # get data from it.\n",
    "        if emitted_signals and emitted_signals[0].is_receiver_reached:\n",
    "            if not is_receiver_chron_started:\n",
    "                is_receiver_chron_started = True\n",
    "            chronometer_time = receiver_frames_count / FPS\n",
    "            signal = emitted_signals.popleft()\n",
    "            readings_dict = update_readings(readings_dict, len(readings_dict),chronometer_time, signal.message)\n",
    "            \n",
    "        if readings_dict:\n",
    "            show_readings(readings_dict, font_big, win)\n",
    "            \n",
    "        # Active when the receiver`s clock is started\n",
    "        if is_receiver_chron_started:\n",
    "            \n",
    "            chronometer_time = receiver_frames_count / FPS\n",
    "            chronometer_time_text = font_big.render(f'Stationary chronometer {chronometer_time:.2f}', True, (0, 0, 0))\n",
    "            receiver_frames_count += 1\n",
    "            \n",
    "            win.blit(chronometer_time_text, (10, 120))\n",
    "            \n",
    "            \n",
    "        \n",
    "        for signal in emitted_signals:\n",
    "            signal.update_signal_position(displacement_per_frame)\n",
    "            \n",
    "            message_coords = update_message_position(end_angle, signal)          \n",
    "            \n",
    "            \n",
    "            message = message_font.render(signal.message, True, (128,128, 128))\n",
    "            win.blit(message, message_coords)\n",
    "  \n",
    "            pygame.draw.arc(win, (255, 255, 0), signal.rect, start_angle, end_angle, 2)\n",
    "            pygame.draw.circle(win, (227, 18, 233), signal.origin_position, radius = 2)\n",
    "        \n",
    "        \n",
    "\n",
    "        pygame.draw.circle(win, (255, 0, 0), space_ship_pos, radius = 2)\n",
    "        \n",
    "        if space_ship_time >= spaceship_tickings:\n",
    "            signal_point = pygame.draw.circle(background_surface, (255, 255, 0), space_ship_pos, radius = 2)\n",
    "            \n",
    "            # Add signal start position to screen_objects['signals_start_positions']\n",
    "            if spaceship_tickings not in screen_objects['signals_start_positions'].keys():\n",
    "                screen_objects['signals_start_positions'][spaceship_tickings] = space_ship_pos.copy()\n",
    "                print(frame, screen_objects['signals_start_positions'][spaceship_tickings])\n",
    "               \n",
    "            # message = str(len(emmited_signals)-1)\n",
    "            messages_count += 1\n",
    "            emitted_signals.append(LightSignalClass.create_signal(space_ship_pos.copy(), str(messages_count)))\n",
    "            \n",
    "            spaceship_tickings += 1\n",
    "        \n",
    "        # IF the spaceship is reached the receiver\n",
    "        if space_ship_pos[0] >= screen_objects['x_line_end']:\n",
    "            \n",
    "            if not moment_to_shift_screen_objects:\n",
    "    \n",
    "                moment_to_shift_screen_objects = True\n",
    "        \n",
    "                screen_objects = shift_screen_objects(background_surface, screen_objects, -1)\n",
    "            \n",
    "                print('Променени screen_objects')\n",
    "                for key, value in screen_objects.items():\n",
    "                    print(key, '->', value)\n",
    "                \n",
    "                '''\n",
    "                Adjusting the boundaries of the signal fronts \n",
    "                to visualize them behind the spaceship.\n",
    "                '''\n",
    "                # print('Старт и енд енгълс преди', start_angle,end_angle)\n",
    "                # start_angle = 15 * np.pi/16\n",
    "                # end_angle = 17 * np.pi/16\n",
    "                # print('Старт и енд енгълс след', start_angle,end_angle)\n",
    "        \n",
    "        pygame.display.update()\n",
    "        pygame.display.flip()\n",
    "    # Exit\n",
    "    pygame.quit()\n",
    "\n",
    "        "
   ]
  },
  {
   "cell_type": "code",
   "execution_count": 18,
   "id": "ec6d1b2f-f45a-4a5e-919a-49a6a8dad4b7",
   "metadata": {
    "tags": []
   },
   "outputs": [
    {
     "name": "stdout",
     "output_type": "stream",
     "text": [
      "x_line_start 100\n",
      "\n",
      "vertical_line_start 640\n",
      "\n",
      "vertical_line_end 660\n",
      "\n",
      "x_line_end 1400\n",
      "\n",
      "y_line 650\n",
      "\n",
      "vertical_line_x [100.0, 186.66666666666669, 273.33333333333337, 360.0, 446.6666666666667, 533.3333333333334, 620.0, 706.6666666666667, 793.3333333333334, 880.0, 966.6666666666667, 1053.3333333333335, 1140.0, 1226.6666666666667, 1313.3333333333335, 1400.0]\n",
      "\n",
      "numbers [[15, 95.0, 675], [14, 181.66666666666669, 675], [13, 268.33333333333337, 675], [12, 355.0, 675], [11, 441.6666666666667, 675], [10, 528.3333333333334, 675], [9, 615.0, 675], [8, 701.6666666666667, 675], [7, 788.3333333333334, 675], [6, 875.0, 675], [5, 961.6666666666667, 675], [4, 1048.3333333333335, 675], [3, 1135.0, 675], [2, 1221.6666666666667, 675], [1, 1308.3333333333335, 675], [0, 1395.0, 675]]\n",
      "\n",
      "signals_start_positions {}\n",
      "\n",
      "spaceship_last_position None\n",
      "\n",
      "190 [224.9666666666675, 500]\n",
      "380 [364.9333333333354, 500]\n",
      "570 [504.9000000000033, 500]\n",
      "760 [644.8666666666711, 500]\n",
      "950 [784.833333333339, 500]\n",
      "1139 [924.0633333333332, 500]\n",
      "1329 [1064.0299999999827, 500]\n",
      "1519 [1203.9966666666323, 500]\n",
      "1709 [1343.9633333332818, 500]\n",
      "Променени screen_objects\n",
      "x_line_start -> 99\n",
      "vertical_line_start -> 640\n",
      "vertical_line_end -> 660\n",
      "x_line_end -> 1399\n",
      "y_line -> 650\n",
      "vertical_line_x -> [99.0, 185.66666666666669, 272.33333333333337, 359.0, 445.6666666666667, 532.3333333333334, 619.0, 705.6666666666667, 792.3333333333334, 879.0, 965.6666666666667, 1052.3333333333335, 1139.0, 1225.6666666666667, 1312.3333333333335, 1399.0]\n",
      "numbers -> [94.0, 180.66666666666669, 267.33333333333337, 354.0, 440.6666666666667, 527.3333333333334, 614.0, 700.6666666666667, 787.3333333333334, 874.0, 960.6666666666667, 1047.3333333333335, 1134.0, 1220.6666666666667, 1307.3333333333335, 1394.0]\n",
      "signals_start_positions -> {1: [223.9666666666675, 500], 2: [363.9333333333354, 500], 3: [503.9000000000033, 500], 4: [643.8666666666711, 500], 5: [783.833333333339, 500], 6: [923.0633333333332, 500], 7: [1063.0299999999827, 500], 8: [1202.9966666666323, 500], 9: [1342.9633333332818, 500]}\n",
      "spaceship_last_position -> 1399.686666666608\n",
      "1899 [1483.9299999999314, 500]\n",
      "2089 [1623.8966666665808, 500]\n"
     ]
    }
   ],
   "source": [
    "main_animation(screen_width, screen_height,FPS)"
   ]
  },
  {
   "cell_type": "code",
   "execution_count": 6,
   "id": "e52f587e-01fa-4f62-bdf2-b0b76b64ae92",
   "metadata": {},
   "outputs": [
    {
     "name": "stdout",
     "output_type": "stream",
     "text": [
      "[1, 2] <class 'list'>\n"
     ]
    }
   ],
   "source": [
    "a = [1, 2]\n",
    "print(str(a), type(a))"
   ]
  },
  {
   "cell_type": "code",
   "execution_count": 7,
   "id": "4bb59997-c884-4f84-ab22-113a2cc55c35",
   "metadata": {},
   "outputs": [],
   "source": [
    "a = {'a': [1, 2]}"
   ]
  },
  {
   "cell_type": "code",
   "execution_count": 8,
   "id": "4e5bce38-268a-4d07-b6ed-ccfeea1739c2",
   "metadata": {},
   "outputs": [],
   "source": [
    "b = {'c':a['a'][1]+1}"
   ]
  },
  {
   "cell_type": "code",
   "execution_count": 9,
   "id": "f2fc0473-90a8-46ac-a472-b588d170bf7c",
   "metadata": {},
   "outputs": [
    {
     "data": {
      "text/plain": [
       "{'c': 3}"
      ]
     },
     "execution_count": 9,
     "metadata": {},
     "output_type": "execute_result"
    }
   ],
   "source": [
    "b"
   ]
  },
  {
   "cell_type": "code",
   "execution_count": 10,
   "id": "b1425b1a-a738-42d8-b9d4-24ddea11a105",
   "metadata": {},
   "outputs": [
    {
     "data": {
      "text/plain": [
       "{'a': [1, 2]}"
      ]
     },
     "execution_count": 10,
     "metadata": {},
     "output_type": "execute_result"
    }
   ],
   "source": [
    "a"
   ]
  },
  {
   "cell_type": "code",
   "execution_count": null,
   "id": "c88f93a5-3b67-4259-9020-51e38bb28e04",
   "metadata": {},
   "outputs": [],
   "source": []
  }
 ],
 "metadata": {
  "kernelspec": {
   "display_name": "Python 3 (ipykernel)",
   "language": "python",
   "name": "python3"
  },
  "language_info": {
   "codemirror_mode": {
    "name": "ipython",
    "version": 3
   },
   "file_extension": ".py",
   "mimetype": "text/x-python",
   "name": "python",
   "nbconvert_exporter": "python",
   "pygments_lexer": "ipython3",
   "version": "3.9.13"
  }
 },
 "nbformat": 4,
 "nbformat_minor": 5
}
