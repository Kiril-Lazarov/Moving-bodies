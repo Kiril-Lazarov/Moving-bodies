{
 "cells": [
  {
   "cell_type": "code",
   "execution_count": 1,
   "id": "55f01264-ccb9-4b73-9f33-56912c7cbf91",
   "metadata": {},
   "outputs": [
    {
     "name": "stdout",
     "output_type": "stream",
     "text": [
      "pygame 2.4.0 (SDL 2.26.4, Python 3.9.13)\n",
      "Hello from the pygame community. https://www.pygame.org/contribute.html\n"
     ]
    }
   ],
   "source": [
    "import numpy as np \n",
    "import pygame \n",
    "from datetime import datetime\n",
    "# import sys\n",
    "# sys.path.append(r'C:\\Users\\lenovo\\Desktop\\Artificial Inteligence\\Jupyter projects\\Moving circles')\n",
    "# from funcs import *"
   ]
  },
  {
   "cell_type": "code",
   "execution_count": 48,
   "id": "4cf54147-0864-44c4-8b54-bd70814bf71a",
   "metadata": {},
   "outputs": [],
   "source": [
    "\"\"\"\n",
    "Global animation variables\n",
    "\n",
    "\"\"\" \n",
    "\n",
    "screen_width = 1500\n",
    "screen_height = 800\n",
    "FPS = 100     # Frames per second\n",
    "\n",
    "# Initial distance between moving body and stationary observer\n",
    "distance = 1300\n",
    "# Velocity is measured as a percentage of the speed of light - [0, 1) \n",
    "velocity = 0.85"
   ]
  },
  {
   "cell_type": "code",
   "execution_count": 43,
   "id": "9a957c53-e468-4113-9da9-1632cc9683f7",
   "metadata": {
    "jupyter": {
     "source_hidden": true
    },
    "tags": []
   },
   "outputs": [],
   "source": [
    "def create_background(screen_width, screen_height, bg_color, units, length):\n",
    "    # Create background object\n",
    "    background_surface = pygame.Surface((screen_width, screen_height))\n",
    "    \n",
    "    # Create font\n",
    "    font_small = pygame.font.Font(None, 26)\n",
    "    background_surface.fill(bg_color)\n",
    "    \n",
    "    # Coordinate x-line parameters\n",
    "    x_line_start = screen_width-1400\n",
    "    x_line_end = screen_width-100\n",
    "    y_line = screen_height-150    \n",
    "    line_color = (185, 185, 185)\n",
    "    \n",
    "    pygame.draw.line(background_surface, color = line_color, start_pos=(x_line_start, y_line),\n",
    "                         end_pos = (x_line_end, y_line), width=2)\n",
    "        \n",
    "   \n",
    "\n",
    "    vertical_line_start = y_line - 10\n",
    "    vertical_line_end = y_line + 10\n",
    "    number_y = vertical_line_end + 15\n",
    "\n",
    "    for i in range(units+1):\n",
    "        vertical_line_x = x_line_start + i*length\n",
    "\n",
    "        pygame.draw.line(background_surface, color = line_color, start_pos=(vertical_line_x, vertical_line_start),\n",
    "                     end_pos = (vertical_line_x, vertical_line_end), width=1)\n",
    "\n",
    "        number = font_small.render(f'{units-i}', True, line_color)\n",
    "        background_surface.blit(number, (vertical_line_x-5,number_y))\n",
    "    description = font_small.render(f'Distance in light seconds', True, line_color)\n",
    "    background_surface.blit(description, (x_line_start+550, y_line+50))\n",
    "    \n",
    "    return background_surface"
   ]
  },
  {
   "cell_type": "code",
   "execution_count": 44,
   "id": "e887b01c-c2f0-4e06-a829-abe76dc16426",
   "metadata": {},
   "outputs": [],
   "source": [
    "def update_spaceship_pos(space_ship_pos, displacement_per_frame):\n",
    "    space_ship_pos[0] += displacement_per_frame\n",
    "    return space_ship_pos"
   ]
  },
  {
   "cell_type": "code",
   "execution_count": 45,
   "id": "a29a149c-a21a-4467-9e8a-7534b4babfb9",
   "metadata": {},
   "outputs": [],
   "source": [
    "def gamma_factor(v):\n",
    "    return np.sqrt(1 - v ** 2)"
   ]
  },
  {
   "cell_type": "code",
   "execution_count": 46,
   "id": "c6b9bf0a-60e7-4a2f-8a15-077693c413b4",
   "metadata": {},
   "outputs": [],
   "source": [
    "def main_animation(screen_width, screen_height,FPS):\n",
    "    pygame.init()\n",
    "    bg_color = (255, 255, 255)\n",
    "    win = pygame.display.set_mode((screen_width, screen_height))\n",
    "    \n",
    "    \n",
    "\n",
    "    clock = pygame.time.Clock()\n",
    "    \n",
    "    \n",
    "    pygame.font.init()\n",
    "    font_big = pygame.font.Font(None, 36)\n",
    "    space_ship_pos = [100, 500]\n",
    "    \n",
    "    \n",
    "    \n",
    "    \n",
    "    running = True\n",
    "    \n",
    "    \n",
    "    \n",
    "     # Every unit is equal to 1 light second\n",
    "    units =15\n",
    "    \n",
    "    # Length of one unit in pixels\n",
    "    length = distance/units\n",
    "    \n",
    "    gamma_fac = gamma_factor(velocity)\n",
    "    \n",
    "    background_surface = create_background(screen_width, screen_height, bg_color,units, length)\n",
    "    \n",
    "    displacement_per_frame = length/ FPS\n",
    "    \n",
    "    frame = 0\n",
    "    pygame.draw.circle(win, (255, 0, 0),space_ship_pos , radius=2)\n",
    "    \n",
    "    print('Gamma factor: ',1/gamma_fac)\n",
    "    while running:\n",
    "        clock.tick(FPS)\n",
    "        frame += 1\n",
    "        # curr_time  = datetime.now()\n",
    "        for event in pygame.event.get():\n",
    "            if event.type == pygame.QUIT:\n",
    "                running = False\n",
    "                \n",
    "        \n",
    "        tick = pygame.time.get_ticks()\n",
    "        win.fill(bg_color)\n",
    "        text = font_big.render(f'Frame number {frame} - time {tick}', True, (0,0,0))\n",
    "        \n",
    "        win.blit(background_surface, (0, 0))\n",
    "        win.blit(text, (10, 10))\n",
    "        \n",
    "        space_ship_pos = update_spaceship_pos(space_ship_pos, displacement_per_frame)\n",
    "        \n",
    "        pygame.draw.circle(win, (255, 0, 0),space_ship_pos , radius=2)\n",
    "        \n",
    "        pygame.display.update()\n",
    "        pygame.display.flip()\n",
    "    # Exit\n",
    "    pygame.quit()\n",
    "        \n",
    "        "
   ]
  },
  {
   "cell_type": "code",
   "execution_count": 49,
   "id": "ec6d1b2f-f45a-4a5e-919a-49a6a8dad4b7",
   "metadata": {
    "tags": []
   },
   "outputs": [
    {
     "name": "stdout",
     "output_type": "stream",
     "text": [
      "Gamma factor:  1.8983159915049976\n"
     ]
    }
   ],
   "source": [
    "main_animation(screen_width, screen_height,FPS)"
   ]
  },
  {
   "cell_type": "code",
   "execution_count": 16,
   "id": "6b727d2d-af4b-4c02-81ba-820debfc427d",
   "metadata": {},
   "outputs": [
    {
     "data": {
      "text/plain": [
       "65.0"
      ]
     },
     "execution_count": 16,
     "metadata": {},
     "output_type": "execute_result"
    }
   ],
   "source": [
    "units = 20\n",
    "length = 1300/units\n",
    "length"
   ]
  },
  {
   "cell_type": "code",
   "execution_count": 18,
   "id": "45f470e3-cbf3-4d08-b59b-c61fb463778e",
   "metadata": {},
   "outputs": [
    {
     "name": "stdout",
     "output_type": "stream",
     "text": [
      "0.0\n",
      "65.0\n",
      "130.0\n",
      "195.0\n",
      "260.0\n",
      "325.0\n",
      "390.0\n",
      "455.0\n",
      "520.0\n",
      "585.0\n",
      "650.0\n",
      "715.0\n",
      "780.0\n",
      "845.0\n",
      "910.0\n",
      "975.0\n",
      "1040.0\n",
      "1105.0\n",
      "1170.0\n",
      "1235.0\n"
     ]
    }
   ],
   "source": [
    "start = 0\n",
    "for i in range(units):\n",
    "    print(start + i*length)"
   ]
  },
  {
   "cell_type": "code",
   "execution_count": null,
   "id": "8563dfbe-1399-4de1-9ce9-c3721a0c505d",
   "metadata": {},
   "outputs": [],
   "source": []
  }
 ],
 "metadata": {
  "kernelspec": {
   "display_name": "Python 3 (ipykernel)",
   "language": "python",
   "name": "python3"
  },
  "language_info": {
   "codemirror_mode": {
    "name": "ipython",
    "version": 3
   },
   "file_extension": ".py",
   "mimetype": "text/x-python",
   "name": "python",
   "nbconvert_exporter": "python",
   "pygments_lexer": "ipython3",
   "version": "3.9.13"
  }
 },
 "nbformat": 4,
 "nbformat_minor": 5
}
